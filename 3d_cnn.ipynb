{
 "cells": [
  {
   "cell_type": "markdown",
   "metadata": {
    "deletable": true,
    "editable": true
   },
   "source": [
    "# 3D CNN for Lung Cancer Detection"
   ]
  },
  {
   "cell_type": "markdown",
   "metadata": {
    "deletable": true,
    "editable": true
   },
   "source": [
    "First import the libraries:"
   ]
  },
  {
   "cell_type": "code",
   "execution_count": 1,
   "metadata": {
    "collapsed": true,
    "deletable": true,
    "editable": true
   },
   "outputs": [],
   "source": [
    "%matplotlib inline\n",
    "\n",
    "import tensorflow as tf\n",
    "import numpy as np\n",
    "import os\n",
    "from random import shuffle\n",
    "import matplotlib.pyplot as plt"
   ]
  },
  {
   "cell_type": "markdown",
   "metadata": {
    "deletable": true,
    "editable": true
   },
   "source": [
    "## Splitting training and validation set\n",
    "### One-hot encoding\n",
    "Performing one-hot encoding for labels (1D array):"
   ]
  },
  {
   "cell_type": "code",
   "execution_count": 2,
   "metadata": {
    "collapsed": false,
    "deletable": true,
    "editable": true
   },
   "outputs": [
    {
     "name": "stdout",
     "output_type": "stream",
     "text": [
      "[[ 0.  1.]\n",
      " [ 1.  0.]\n",
      " [ 0.  1.]]\n"
     ]
    }
   ],
   "source": [
    "def one_hot_encode(labels):\n",
    "    one_hot = np.zeros((len(labels), 2))\n",
    "    one_hot[np.arange(len(labels)), labels] = 1\n",
    "    \n",
    "    return one_hot\n",
    "\n",
    "sample_labels = [1, 0, 1]\n",
    "one_hot_sample_labels = one_hot_encode(sample_labels)\n",
    "print(one_hot_sample_labels)"
   ]
  },
  {
   "cell_type": "markdown",
   "metadata": {
    "deletable": true,
    "editable": true
   },
   "source": [
    "### Saving Data"
   ]
  },
  {
   "cell_type": "code",
   "execution_count": 3,
   "metadata": {
    "collapsed": true,
    "deletable": true,
    "editable": true
   },
   "outputs": [],
   "source": [
    "preprocessed_data_folder = './stage1_preprocessed/'\n",
    "\n",
    "data_shape = [250, 350, 350]\n",
    "train_size = 0.8 # relative size of train set\n",
    "batch_size = 5 # divide set into batches to prevent machine from running out of memory"
   ]
  },
  {
   "cell_type": "code",
   "execution_count": 4,
   "metadata": {
    "collapsed": false,
    "deletable": true,
    "editable": true
   },
   "outputs": [
    {
     "name": "stdout",
     "output_type": "stream",
     "text": [
      "Total data size: 1396, Training data size: 1112, Validation data size: 284 \n",
      "Number of train batches: 223, Number of validation batches: 57\n"
     ]
    }
   ],
   "source": [
    "patients = os.listdir(preprocessed_data_folder)\n",
    "shuffle(patients) # randomize the order of data\n",
    "\n",
    "# initialization\n",
    "train_batches = []\n",
    "valid_batches = []\n",
    "current_train_batch = []\n",
    "current_valid_batch = []\n",
    "\n",
    "train_data_size = 0\n",
    "valid_data_size = 0\n",
    "\n",
    "for i in range(len(patients)):  \n",
    "    if patients[i].startswith('.'): continue # ignore hidden files\n",
    "    #patient_data = \n",
    "    if np.load(preprocessed_data_folder + patients[i])['set'] == 'test': continue # ignore test data\n",
    "    \n",
    "    if i < int(len(patients) * train_size): # train set\n",
    "        current_train_batch.append(patients[i])\n",
    "        \n",
    "        #  if current train batch is full\n",
    "        if (len(current_train_batch) == batch_size): \n",
    "            train_batches.append(current_train_batch)\n",
    "            train_data_size += batch_size\n",
    "            current_train_batch = []\n",
    "            \n",
    "    else: # validation set\n",
    "        current_valid_batch.append(patients[i])\n",
    "        \n",
    "        #  if current validation batch is full\n",
    "        if (len(current_valid_batch) == batch_size): \n",
    "            valid_batches.append(current_valid_batch)\n",
    "            valid_data_size += batch_size\n",
    "            current_valid_batch = []\n",
    "\n",
    "# save the remaining training and validation data set\n",
    "if len(current_train_batch) != 0:\n",
    "    train_data_size += len(current_train_batch)\n",
    "    # pad zeros to make its size equal to batch_size\n",
    "    while (len(current_train_batch) != batch_size):\n",
    "        current_train_batch.append(0)\n",
    "    train_batches.append(current_train_batch)\n",
    "    current_train_batch = []\n",
    "\n",
    "if len(current_valid_batch) != 0:\n",
    "    valid_data_size += len(current_valid_batch)\n",
    "    while (len(current_valid_batch) != batch_size):\n",
    "        current_valid_batch.append(0)\n",
    "    valid_batches.append(current_valid_batch)\n",
    "    current_valid_batch = []\n",
    "\n",
    "train_batches = np.array(train_batches)\n",
    "valid_batches = np.array(valid_batches)\n",
    "\n",
    "print('Total data size: {:d}, Training data size: {:d}, Validation data size: {:d} '.format(\n",
    "    train_data_size + valid_data_size, train_data_size, valid_data_size))\n",
    "print('Number of train batches: {:d}, Number of validation batches: {:d}'.format(\n",
    "    train_batches.shape[0], valid_batches.shape[0]))"
   ]
  },
  {
   "cell_type": "markdown",
   "metadata": {
    "deletable": true,
    "editable": true
   },
   "source": [
    "### Loading Data"
   ]
  },
  {
   "cell_type": "code",
   "execution_count": 5,
   "metadata": {
    "collapsed": false,
    "deletable": true,
    "editable": true
   },
   "outputs": [
    {
     "data": {
      "image/png": "[encoded data removed]",
      "text/plain": [
       "<matplotlib.figure.Figure at 0x7f6d308ff278>"
      ]
     },
     "metadata": {},
     "output_type": "display_data"
    },
    {
     "name": "stdout",
     "output_type": "stream",
     "text": [
      "[[ 0.  1.]\n",
      " [ 1.  0.]\n",
      " [ 1.  0.]\n",
      " [ 1.  0.]\n",
      " [ 1.  0.]]\n"
     ]
    }
   ],
   "source": [
    "def read_batch(batch_files):\n",
    "    \n",
    "    # do not account the placeholder zeros for the batch size\n",
    "    current_batch_size = batch_size - np.sum(batch_files == '0')\n",
    "    \n",
    "    batch_features = np.zeros((current_batch_size, data_shape[0], data_shape[1], data_shape[2], 1))\n",
    "    \n",
    "    labels = []\n",
    "    for i in range(len(batch_files)):\n",
    "        if batch_files[i] != '0':\n",
    "            data = np.load(preprocessed_data_folder + batch_files[i])\n",
    "            batch_features[i,:,:,:,0] = data['data']\n",
    "            labels.append(data['label'])\n",
    "    \n",
    "    # one-hot encoding\n",
    "    batch_labels = one_hot_encode(labels)\n",
    "\n",
    "    return batch_features, batch_labels\n",
    "\n",
    "train_features_batch_sample, train_labels_batch_sample = read_batch(train_batches[0])\n",
    "\n",
    "plt.imshow(train_features_batch_sample[0,:,:,100,0], cmap=plt.cm.bone)\n",
    "plt.show()\n",
    "print(train_labels_batch_sample)"
   ]
  },
  {
   "cell_type": "markdown",
   "metadata": {
    "deletable": true,
    "editable": true
   },
   "source": [
    "## Building Neural Network\n",
    "Here we use Tensorflow to build a 3D Convolutional Neural Network. First, we define the layers in the neural net.\n",
    "\n",
    "### Convolutional Layer"
   ]
  },
  {
   "cell_type": "code",
   "execution_count": 6,
   "metadata": {
    "collapsed": true,
    "deletable": true,
    "editable": true
   },
   "outputs": [],
   "source": [
    "def conv3d(tensor, n_outputs, ksize, stride):\n",
    "    # tensor: input tensor to the layer\n",
    "    # n_outputs: number of outputs for convolutional layer\n",
    "    # ksize: kernel size for convolutional layer\n",
    "    # stride: stride size for convolutional layer\n",
    "    \n",
    "    # weight and bias tensor for convolutional layer\n",
    "    weight = tf.Variable(tf.truncated_normal([ksize,\n",
    "                                              ksize,\n",
    "                                              ksize,\n",
    "                                              tensor.get_shape().as_list()[4],\n",
    "                                              n_outputs],\n",
    "                                              stddev=0.1))\n",
    "    bias = tf.Variable(tf.zeros([n_outputs]))\n",
    "    \n",
    "    # convolutional layer\n",
    "    tensor = tf.nn.conv3d(tensor,\n",
    "                          weight,\n",
    "                          strides = [1,stride,stride,stride,1],\n",
    "                          padding = 'SAME')\n",
    "    tensor = tf.nn.bias_add(tensor, bias)\n",
    "    \n",
    "    # activation layer\n",
    "    tensor = tf.nn.relu(tensor)\n",
    "    \n",
    "    return tensor"
   ]
  },
  {
   "cell_type": "markdown",
   "metadata": {
    "deletable": true,
    "editable": true
   },
   "source": [
    "### Max-pooling Layer"
   ]
  },
  {
   "cell_type": "code",
   "execution_count": 7,
   "metadata": {
    "collapsed": true,
    "deletable": true,
    "editable": true
   },
   "outputs": [],
   "source": [
    "def maxpool(tensor, ksize, stride):\n",
    "    # tensor: input tensor to the layer\n",
    "    # ksize: kernel size for max-pooling layer\n",
    "    # stride: stride size for max-pooling layer\n",
    "    \n",
    "    # max-pooling layer\n",
    "    tensor = tf.nn.max_pool3d(tensor,\n",
    "                              ksize = [1,ksize,ksize,ksize,1],\n",
    "                              strides = [1,stride,stride,stride,1],\n",
    "                              padding = 'SAME')\n",
    "    \n",
    "    return tensor"
   ]
  },
  {
   "cell_type": "markdown",
   "metadata": {
    "deletable": true,
    "editable": true
   },
   "source": [
    "### Flatten Layer\n",
    "A flatten layer is used to reshape a 5D tensor to a 2D tensor. The flattened layer would be the input of a fully-connected layer. "
   ]
  },
  {
   "cell_type": "code",
   "execution_count": 8,
   "metadata": {
    "collapsed": true,
    "deletable": true,
    "editable": true
   },
   "outputs": [],
   "source": [
    "def flatten(tensor):\n",
    "    flattened_size = np.prod(tensor.get_shape().as_list()[1:])\n",
    "    return tf.reshape(tensor, [-1, flattened_size])"
   ]
  },
  {
   "cell_type": "markdown",
   "metadata": {
    "deletable": true,
    "editable": true
   },
   "source": [
    "### Fully-connected Layer"
   ]
  },
  {
   "cell_type": "code",
   "execution_count": 9,
   "metadata": {
    "collapsed": true,
    "deletable": true,
    "editable": true
   },
   "outputs": [],
   "source": [
    "def fully_conn(tensor, n_outputs):\n",
    "    # tensor: input 2D tensor to the layer\n",
    "    # n_outputs: number of outputs of the fully-connected layer\n",
    "    \n",
    "    size = tensor.get_shape().as_list()[1]\n",
    "    \n",
    "    # weigth and bias tensor for the fully-connected layer\n",
    "    weight = tf.Variable(tf.truncated_normal([size, n_outputs], stddev=0.1))\n",
    "    bias = tf.Variable(tf.zeros([n_outputs]))\n",
    "    \n",
    "    # fully-connected layer\n",
    "    tensor = tf.matmul(tensor, weight)\n",
    "    tensor = tf.nn.bias_add(tensor, bias)\n",
    "    \n",
    "    # activation layer\n",
    "    tensor = tf.nn.relu(tensor)\n",
    "    \n",
    "    return tensor"
   ]
  },
  {
   "cell_type": "markdown",
   "metadata": {
    "deletable": true,
    "editable": true
   },
   "source": [
    "### Output Layer"
   ]
  },
  {
   "cell_type": "code",
   "execution_count": 10,
   "metadata": {
    "collapsed": true,
    "deletable": true,
    "editable": true
   },
   "outputs": [],
   "source": [
    "def output(tensor, n_outputs):\n",
    "    # tensor: input 2D tensor to the layer\n",
    "    # n_outputs: number of outputs of the output layer\n",
    "    \n",
    "    size = tensor.get_shape().as_list()[1]\n",
    "    \n",
    "    # weigth and bias tensor for the output layer\n",
    "    weight = tf.Variable(tf.truncated_normal([size, n_outputs], stddev=0.1))\n",
    "    bias = tf.Variable(tf.zeros([n_outputs]))\n",
    "    \n",
    "    # output layer\n",
    "    tensor = tf.matmul(tensor, weight)\n",
    "    tensor = tf.nn.bias_add(tensor, bias)\n",
    "    \n",
    "    return tensor"
   ]
  },
  {
   "cell_type": "markdown",
   "metadata": {
    "deletable": true,
    "editable": true
   },
   "source": [
    "### Convolutional Neural Network Model"
   ]
  },
  {
   "cell_type": "code",
   "execution_count": 11,
   "metadata": {
    "collapsed": true,
    "deletable": true,
    "editable": true
   },
   "outputs": [],
   "source": [
    "def conv_net(x, keep_prob):\n",
    "    # x: placeholder tensor that holds the input\n",
    "    # keep_prob: placeholder tensor for the dropout layer\n",
    "    \n",
    "    # convolutional and max-pooling layers\n",
    "    x = maxpool(x, 2, 2) # applying a max-pooling layer first to reduce the memory usage\n",
    "    \n",
    "    conv1 = conv3d(x, 32, 5, 2)\n",
    "    conv1 = maxpool(conv1, 2, 2)\n",
    "    \n",
    "    conv2 = conv3d(conv1, 64, 5, 2)\n",
    "    conv2 = maxpool(conv2, 2, 2)\n",
    "\n",
    "    conv3 = conv3d(conv2, 128, 5, 2)\n",
    "    conv3 = maxpool(conv3, 2, 2)\n",
    "    \n",
    "    # flatten layer\n",
    "    flat = flatten(conv3)\n",
    "    \n",
    "    # fully-connected layers\n",
    "    fc1 = fully_conn(flat, 1024)\n",
    "    fc2 = fully_conn(fc1, 256)\n",
    "    fc3 = fully_conn(fc2, 64)\n",
    "    \n",
    "    # dropout layer\n",
    "    dropout = tf.nn.dropout(fc3, keep_prob)\n",
    "    \n",
    "    # output layer\n",
    "    y = output(dropout, 2)\n",
    "    \n",
    "    return y"
   ]
  },
  {
   "cell_type": "markdown",
   "metadata": {
    "deletable": true,
    "editable": true
   },
   "source": [
    "### Building Network"
   ]
  },
  {
   "cell_type": "code",
   "execution_count": 12,
   "metadata": {
    "collapsed": false,
    "deletable": true,
    "editable": true
   },
   "outputs": [],
   "source": [
    "tf.reset_default_graph()\n",
    "\n",
    "# inputs\n",
    "x = tf.placeholder(tf.float32, (None, data_shape[0], data_shape[1], data_shape[2], 1), name='x')\n",
    "y = tf.placeholder(tf.float32, (None, 2), name='y')\n",
    "keep_prob = tf.placeholder(tf.float32, name='keep_prob')\n",
    "\n",
    "# convolutional neural network model\n",
    "logits = conv_net(x, keep_prob)\n",
    "logits = tf.identity(logits, name='logits') # name logits tensor\n",
    "\n",
    "# cost function and optimizer\n",
    "cost = tf.reduce_mean(tf.nn.softmax_cross_entropy_with_logits(logits=logits, labels=y), name='cost')\n",
    "optimizer = tf.train.AdamOptimizer().minimize(cost) # Adam gradient descent optimizer\n",
    "\n",
    "# accuracy\n",
    "correct_prediction = tf.equal(tf.argmax(logits, 1), tf.argmax(y, 1))\n",
    "accuracy = tf.reduce_mean(tf.cast(correct_prediction, tf.float32), name='accuracy')"
   ]
  },
  {
   "cell_type": "markdown",
   "metadata": {
    "deletable": true,
    "editable": true
   },
   "source": [
    "### Training Network"
   ]
  },
  {
   "cell_type": "code",
   "execution_count": 13,
   "metadata": {
    "collapsed": true,
    "deletable": true,
    "editable": true
   },
   "outputs": [],
   "source": [
    "def train_conv_net(session, optimizer, keep_probability, features_batch, labels_batch):\n",
    "    session.run(optimizer, feed_dict={\n",
    "        x: features_batch,\n",
    "        y: labels_batch,\n",
    "        keep_prob: keep_probability\n",
    "    })\n",
    "\n",
    "def stats(session, function, n_batch, set):\n",
    "    # n_batch: number of batches used for  calculation\n",
    "    if set == 'train':\n",
    "        assert (n_batch <= train_batches.shape[0])\n",
    "        batches = train_batches\n",
    "    if set == 'valid':\n",
    "        assert (n_batch <= valid_batches.shape[0])\n",
    "        batches = valid_batches\n",
    "    \n",
    "    \n",
    "    batch_indices = np.arange(batches.shape[0])\n",
    "    shuffle(batch_indices) # randomize the order\n",
    "    batch_indices = batch_indices[:n_batch] # only select the first n_batch batches\n",
    "    \n",
    "    total_stats = 0.\n",
    "    total_size = 0.\n",
    "    # loop over the selected set\n",
    "    for batch_index in batch_indices:\n",
    "        features, labels = read_batch(batches[batch_index])\n",
    "        current_stats = session.run(function, feed_dict={\n",
    "                                    x: features,\n",
    "                                    y: labels,\n",
    "                                    keep_prob: 1. # deactivate dropout layer\n",
    "                                    })\n",
    "        current_batch_size = batch_size - np.sum(batches[batch_index] == '0')\n",
    "        total_stats += current_stats * current_batch_size\n",
    "        total_size += current_batch_size\n",
    "    \n",
    "    return total_stats / total_size\n",
    "    \n",
    "        \n",
    "        \n",
    "# print out current training stats\n",
    "def show_stats(session, cost, accuracy):\n",
    "    # training loss\n",
    "    loss = stats(session, cost, 200, 'train')\n",
    "    \n",
    "    # validation loss\n",
    "    valid_loss = stats(session, cost, 50, 'valid')\n",
    "    \n",
    "    # validation accuracy\n",
    "    valid_accuracy = stats(session, accuracy, 50, 'valid')\n",
    "    \n",
    "    print('Training Loss: {:>8.4f} Validation Loss: {:>8.4f} Validation Accuracy: {:.6f}'.format(\n",
    "        loss, valid_loss, valid_accuracy))"
   ]
  },
  {
   "cell_type": "code",
   "execution_count": 15,
   "metadata": {
    "collapsed": true,
    "deletable": true,
    "editable": true
   },
   "outputs": [],
   "source": [
    "# hyperparameters\n",
    "epochs = 4\n",
    "keep_probability = 0.7\n",
    "model_save_path = './model1'"
   ]
  },
  {
   "cell_type": "code",
   "execution_count": null,
   "metadata": {
    "collapsed": false,
    "deletable": true,
    "editable": true
   },
   "outputs": [
    {
     "name": "stdout",
     "output_type": "stream",
     "text": [
      "Epoch  1  Batch 222 Training Loss:   0.6974 Validation Loss:   0.7259 Validation Accuracy: 0.726908\n",
      "Epoch  2  Batch 222 Training Loss:   0.7247 Validation Loss:   0.8423 Validation Accuracy: 0.702811\n",
      "Epoch  3  Batch 222 Training Loss:   0.6753 Validation Loss:   0.8059 Validation Accuracy: 0.710843\n",
      "Epoch  4  Batch 222 Training Loss:   0.7014 Validation Loss:   0.8087 Validation Accuracy: 0.722892\n"
     ]
    }
   ],
   "source": [
    "# start training\n",
    "with tf.Session() as sess:\n",
    "    # initialization\n",
    "    sess.run(tf.global_variables_initializer())\n",
    "    \n",
    "    # saver\n",
    "    saver = tf.train.Saver()\n",
    "    \n",
    "    # training\n",
    "    for epoch in range(epochs):\n",
    "        # loop over training batches\n",
    "        for batch_index in range(train_batches.shape[0]):\n",
    "            features_batch, labels_batch = read_batch(train_batches[batch_index])\n",
    "            train_conv_net(sess, optimizer, keep_probability, features_batch, labels_batch)\n",
    "            print('Epoch {:>2}, Batch {:>3} '.format(epoch + 1, batch_index), end='\\r')\n",
    "        print('Epoch {:>2} '.format(epoch + 1), end='')\n",
    "        show_stats(sess, cost, accuracy)\n",
    "        # save model\n",
    "        saver.save(sess, model_save_path + '_' + str(epoch))"
   ]
  },
  {
   "cell_type": "code",
   "execution_count": null,
   "metadata": {
    "collapsed": true,
    "deletable": true,
    "editable": true
   },
   "outputs": [],
   "source": []
  }
 ],
 "metadata": {
  "kernelspec": {
   "display_name": "Python 3",
   "language": "python",
   "name": "python3"
  },
  "language_info": {
   "codemirror_mode": {
    "name": "ipython",
    "version": 3
   },
   "file_extension": ".py",
   "mimetype": "text/x-python",
   "name": "python",
   "nbconvert_exporter": "python",
   "pygments_lexer": "ipython3",
   "version": "3.5.2"
  },
  "widgets": {
   "state": {},
   "version": "1.1.2"
  }
 },
 "nbformat": 4,
 "nbformat_minor": 2
}
